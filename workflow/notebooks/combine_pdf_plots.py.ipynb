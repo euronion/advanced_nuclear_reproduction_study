{
 "cells": [
  {
   "cell_type": "code",
   "execution_count": null,
   "id": "cfaf2781",
   "metadata": {},
   "outputs": [],
   "source": [
    "import logging\n",
    "\n",
    "from PyPDF2 import PdfFileMerger\n",
    "\n",
    "logger = logging.getLogger(__name__)\n",
    "\n",
    "# KISS approach:\n",
    "# Assume input files and output files come in the same order and there are always the same amount\n",
    "# of input files_to_merge per output file\n",
    "files_to_merge = int(len(snakemake.input) / len(snakemake.output))\n",
    "\n",
    "chunked_files = [\n",
    "    snakemake.input[start : start + files_to_merge]\n",
    "    for start in range(0, len(snakemake.input), files_to_merge)\n",
    "]\n",
    "\n",
    "# Merge files\n",
    "# Assume here that scenario order in snakemake.input and snakemake.output is the same\n",
    "for in_files, out_file in zip(chunked_files, snakemake.output):\n",
    "\n",
    "    logger.info(f\"Merging: {out_file}... \".rstrip())\n",
    "    merger = PdfFileMerger()\n",
    "\n",
    "    for pdf in in_files:\n",
    "        merger.append(pdf)\n",
    "\n",
    "    merger.write(out_file)\n",
    "    merger.close()\n",
    "    logger.info(\"Done.\")"
   ]
  }
 ],
 "metadata": {
  "kernelspec": {
   "display_name": "Python 3 (ipykernel)",
   "language": "python",
   "name": "python3"
  },
  "language_info": {
   "codemirror_mode": {
    "name": "ipython",
    "version": 3
   },
   "file_extension": ".py",
   "mimetype": "text/x-python",
   "name": "python",
   "nbconvert_exporter": "python",
   "pygments_lexer": "ipython3",
   "version": "3.10.4"
  }
 },
 "nbformat": 4,
 "nbformat_minor": 5
}
