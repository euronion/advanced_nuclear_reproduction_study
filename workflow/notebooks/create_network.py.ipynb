{
 "cells": [
  {
   "cell_type": "code",
   "execution_count": null,
   "id": "465a0574",
   "metadata": {},
   "outputs": [],
   "source": [
    "import logging\n",
    "\n",
    "import pandas as pd\n",
    "import pypsa\n",
    "\n",
    "logger = logging.getLogger(__name__)\n",
    "\n",
    "n = pypsa.Network()\n",
    "\n",
    "n.import_from_csv_folder(snakemake.input[\"network_template\"])\n",
    "\n",
    "years = snakemake.wildcards[\"years\"]\n",
    "\n",
    "if len(years) != 4 and len(years) != 9:\n",
    "    logger.error(\n",
    "        \"Years wildcard must either bei a four digit year \"\n",
    "        \"or two four digit years joined by hyphen.\"\n",
    "    )\n",
    "\n",
    "# For year range: split to retrieve both parts\n",
    "years = years.split(\"-\")\n",
    "\n",
    "start_year = int(years[0])\n",
    "\n",
    "if len(years) == 1:\n",
    "    end_year = start_year\n",
    "elif len(years) == 2:\n",
    "    end_year = int(years[-1])\n",
    "\n",
    "end_year += 1\n",
    "\n",
    "snapshots = pd.date_range(\n",
    "    start=str(start_year),\n",
    "    end=str(end_year),\n",
    "    freq=\"H\",\n",
    "    inclusive=\"left\",\n",
    "    name=\"snapshots\",\n",
    ")\n",
    "\n",
    "n.set_snapshots(snapshots)\n",
    "\n",
    "n.export_to_netcdf(snakemake.output[\"network\"])"
   ]
  }
 ],
 "metadata": {
  "kernelspec": {
   "display_name": "Python 3 (ipykernel)",
   "language": "python",
   "name": "python3"
  },
  "language_info": {
   "codemirror_mode": {
    "name": "ipython",
    "version": 3
   },
   "file_extension": ".py",
   "mimetype": "text/x-python",
   "name": "python",
   "nbconvert_exporter": "python",
   "pygments_lexer": "ipython3",
   "version": "3.10.2"
  }
 },
 "nbformat": 4,
 "nbformat_minor": 5
}
