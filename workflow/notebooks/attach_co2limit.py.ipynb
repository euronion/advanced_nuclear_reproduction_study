{
 "cells": [
  {
   "cell_type": "code",
   "execution_count": null,
   "id": "e1843015",
   "metadata": {},
   "outputs": [],
   "source": [
    "import pandas as pd\n",
    "import pypsa\n",
    "\n",
    "n = pypsa.Network(snakemake.input[\"network\"])\n",
    "\n",
    "df = pd.read_csv(snakemake.input[\"technologydata\"], dtype={\"value\": float})\n",
    "\n",
    "# Emissions used as a reference to calculate emissions constraint (from natural gas combined cycle power plant)\n",
    "# in t_CO2/MWh_e\n",
    "reference_emissions = df.query(\n",
    "    \"name=='reference emissions' and parameter=='reference emissions'\"\n",
    ").iloc[0][\"value\"]\n",
    "\n",
    "# total electricity demand in MWh_e\n",
    "total_demand = n.loads_t[\"p_set\"][\"load\"].sum()\n",
    "\n",
    "# Calculate emissions in t_CO2 if total demand is served from NG CC PPs (max emissions)\n",
    "total_emissions = reference_emissions * total_demand\n",
    "\n",
    "# Calculate emission limit (constraint) based on wildcard value (p.u. of max emissions)\n",
    "emission_limit = total_emissions * float(snakemake.wildcards[\"co2limit\"])\n",
    "\n",
    "# Add constraint to network and save\n",
    "n.add(\n",
    "    \"GlobalConstraint\",\n",
    "    \"CO2Limit\",\n",
    "    carrier_attribute=\"co2_emissions\",\n",
    "    sense=\"<=\",\n",
    "    constant=emission_limit,\n",
    ")\n",
    "\n",
    "n.export_to_netcdf(snakemake.output[\"network\"])"
   ]
  }
 ],
 "metadata": {
  "kernelspec": {
   "display_name": "Python 3 (ipykernel)",
   "language": "python",
   "name": "python3"
  },
  "language_info": {
   "codemirror_mode": {
    "name": "ipython",
    "version": 3
   },
   "file_extension": ".py",
   "mimetype": "text/x-python",
   "name": "python",
   "nbconvert_exporter": "python",
   "pygments_lexer": "ipython3",
   "version": "3.8.12"
  }
 },
 "nbformat": 4,
 "nbformat_minor": 5
}
