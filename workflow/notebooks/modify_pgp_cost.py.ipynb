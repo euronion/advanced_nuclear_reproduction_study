{
 "cells": [
  {
   "cell_type": "code",
   "execution_count": null,
   "id": "eaff346f",
   "metadata": {},
   "outputs": [],
   "source": [
    "import logging\n",
    "\n",
    "import pypsa\n",
    "\n",
    "logger = logging.getLogger(__name__)\n",
    "\n",
    "n = pypsa.Network(snakemake.input[\"network\"])\n",
    "\n",
    "pgpfactor = float(snakemake.wildcards[\"pgpfactor\"])\n",
    "\n",
    "if snakemake.config[\"emulate_original_paper\"]:\n",
    "    # Following original paper model in 17_PGP.py only\n",
    "    # apply the PGP cost modifier to electrolysis and fuel cell\n",
    "    # fixed cost\n",
    "    logger.warning(\n",
    "        \"'emulate_original_paper' enabled. \"\n",
    "        \"Only applying pgpfactor modifier to electrolysis and fuel cell\"\n",
    "        \"capital cost.\"\n",
    "    )\n",
    "\n",
    "    idx = n.df(\"Link\").query(\"bus0 == 'hydrogen' or bus1 == 'hydrogen'\").index\n",
    "    n.df(\"Link\").loc[idx, \"capital_cost\"] *= pgpfactor\n",
    "\n",
    "else:\n",
    "    # Apply PGP factor to all Link + Store components attached to the \"hydrogen\" bus\n",
    "    n.df(\"Link\").loc[\n",
    "        n.df(\"Link\").query(\"bus0 == 'hydrogen' or bus1 == 'hydrogen'\").index,\n",
    "        [\"capital_cost\", \"marginal_cost\"],\n",
    "    ] *= pgpfactor\n",
    "    n.df(\"Store\").loc[\n",
    "        n.df(\"Store\").query(\"bus == 'hydrogen'\").index,\n",
    "        [\"capital_cost\", \"marginal_cost\"],\n",
    "    ] *= pgpfactor\n",
    "\n",
    "n.export_to_netcdf(snakemake.output[\"network\"])"
   ]
  }
 ],
 "metadata": {
  "kernelspec": {
   "display_name": "Python 3 (ipykernel)",
   "language": "python",
   "name": "python3"
  },
  "language_info": {
   "codemirror_mode": {
    "name": "ipython",
    "version": 3
   },
   "file_extension": ".py",
   "mimetype": "text/x-python",
   "name": "python",
   "nbconvert_exporter": "python",
   "pygments_lexer": "ipython3",
   "version": "3.10.4"
  }
 },
 "nbformat": 4,
 "nbformat_minor": 5
}
